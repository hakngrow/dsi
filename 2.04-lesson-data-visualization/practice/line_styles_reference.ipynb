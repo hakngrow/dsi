{
 "cells": [
  {
   "cell_type": "code",
   "execution_count": null,
   "metadata": {},
   "outputs": [],
   "source": [
    "%matplotlib inline"
   ]
  },
  {
   "cell_type": "markdown",
   "metadata": {},
   "source": [
    "\n",
    "# Line-style reference\n",
    "\n",
    "\n",
    "Reference for line-styles included with Matplotlib.\n",
    "\n"
   ]
  },
  {
   "cell_type": "code",
   "execution_count": 2,
   "metadata": {},
   "outputs": [
    {
     "data": {
      "image/png": "[encoded data removed]",
      "text/plain": [
       "<Figure size 432x288 with 1 Axes>"
      ]
     },
     "metadata": {
      "needs_background": "light"
     },
     "output_type": "display_data"
    }
   ],
   "source": [
    "import numpy as np\n",
    "import matplotlib.pyplot as plt\n",
    "\n",
    "\n",
    "color = 'cornflowerblue'\n",
    "points = np.ones(5)  # Draw 5 points for each line\n",
    "text_style = dict(horizontalalignment='right', verticalalignment='center',\n",
    "                  fontsize=12, fontdict={'family': 'monospace'})\n",
    "\n",
    "\n",
    "def format_axes(ax):\n",
    "    ax.margins(0.2)\n",
    "    ax.set_axis_off()\n",
    "\n",
    "\n",
    "# Plot all line styles.\n",
    "fig, ax = plt.subplots()\n",
    "\n",
    "linestyles = ['-', '--', '-.', ':']\n",
    "for y, linestyle in enumerate(linestyles):\n",
    "    ax.text(-0.1, y, repr(linestyle), **text_style)\n",
    "    ax.plot(y * points, linestyle=linestyle, color=color, linewidth=3)\n",
    "    format_axes(ax)\n",
    "    ax.set_title('line styles')\n",
    "\n",
    "plt.show()"
   ]
  }
 ],
 "metadata": {
  "kernelspec": {
   "display_name": "Python 3",
   "language": "python",
   "name": "python3"
  },
  "language_info": {
   "codemirror_mode": {
    "name": "ipython",
    "version": 3
   },
   "file_extension": ".py",
   "mimetype": "text/x-python",
   "name": "python",
   "nbconvert_exporter": "python",
   "pygments_lexer": "ipython3",
   "version": "3.6.8"
  }
 },
 "nbformat": 4,
 "nbformat_minor": 1
}
